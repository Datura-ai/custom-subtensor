{
 "cells": [
  {
   "cell_type": "code",
   "execution_count": 2,
   "metadata": {},
   "outputs": [
    {
     "ename": "SubstrateRequestException",
     "evalue": "{'code': 1, 'message': 'Unable to get epoch info: Application(Execution(Other(\"Exported method SubnetInfoRuntimeApi_custom_epoch is not found\")))'}",
     "output_type": "error",
     "traceback": [
      "\u001b[0;31m---------------------------------------------------------------------------\u001b[0m",
      "\u001b[0;31mSubstrateRequestException\u001b[0m                 Traceback (most recent call last)",
      "Cell \u001b[0;32mIn[2], line 5\u001b[0m\n\u001b[1;32m      1\u001b[0m \u001b[38;5;28;01mimport\u001b[39;00m \u001b[38;5;21;01msubstrateinterface\u001b[39;00m\n\u001b[1;32m      3\u001b[0m node \u001b[38;5;241m=\u001b[39m substrateinterface\u001b[38;5;241m.\u001b[39mSubstrateInterface(url\u001b[38;5;241m=\u001b[39m\u001b[38;5;124m\"\u001b[39m\u001b[38;5;124mhttp://localhost:9944\u001b[39m\u001b[38;5;124m\"\u001b[39m)\n\u001b[0;32m----> 5\u001b[0m \u001b[43mnode\u001b[49m\u001b[38;5;241;43m.\u001b[39;49m\u001b[43mrpc_request\u001b[49m\u001b[43m(\u001b[49m\u001b[38;5;124;43m\"\u001b[39;49m\u001b[38;5;124;43msubtensor_epoch\u001b[39;49m\u001b[38;5;124;43m\"\u001b[39;49m\u001b[43m,\u001b[49m\u001b[43m \u001b[49m\u001b[43m[\u001b[49m\u001b[38;5;241;43m18\u001b[39;49m\u001b[43m]\u001b[49m\u001b[43m)\u001b[49m\n",
      "File \u001b[0;32m~/.local/lib/python3.11/site-packages/substrateinterface/base.py:346\u001b[0m, in \u001b[0;36mSubstrateInterface.rpc_request\u001b[0;34m(self, method, params, result_handler)\u001b[0m\n\u001b[1;32m    344\u001b[0m     \u001b[38;5;66;03m# Check if response has error\u001b[39;00m\n\u001b[1;32m    345\u001b[0m     \u001b[38;5;28;01mif\u001b[39;00m \u001b[38;5;124m'\u001b[39m\u001b[38;5;124merror\u001b[39m\u001b[38;5;124m'\u001b[39m \u001b[38;5;129;01min\u001b[39;00m json_body:\n\u001b[0;32m--> 346\u001b[0m         \u001b[38;5;28;01mraise\u001b[39;00m SubstrateRequestException(json_body[\u001b[38;5;124m'\u001b[39m\u001b[38;5;124merror\u001b[39m\u001b[38;5;124m'\u001b[39m])\n\u001b[1;32m    348\u001b[0m \u001b[38;5;28;01mreturn\u001b[39;00m json_body\n",
      "\u001b[0;31mSubstrateRequestException\u001b[0m: {'code': 1, 'message': 'Unable to get epoch info: Application(Execution(Other(\"Exported method SubnetInfoRuntimeApi_custom_epoch is not found\")))'}"
     ]
    }
   ],
   "source": [
    "import substrateinterface\n",
    "\n",
    "node = substrateinterface.SubstrateInterface(url=\"http://localhost:9944\")\n",
    "\n",
    "node.rpc_request(\"subtensor_epoch\", [18])"
   ]
  },
  {
   "cell_type": "code",
   "execution_count": null,
   "metadata": {},
   "outputs": [],
   "source": []
  }
 ],
 "metadata": {
  "kernelspec": {
   "display_name": "Python 3",
   "language": "python",
   "name": "python3"
  },
  "language_info": {
   "codemirror_mode": {
    "name": "ipython",
    "version": 3
   },
   "file_extension": ".py",
   "mimetype": "text/x-python",
   "name": "python",
   "nbconvert_exporter": "python",
   "pygments_lexer": "ipython3",
   "version": "3.11.3"
  }
 },
 "nbformat": 4,
 "nbformat_minor": 2
}
